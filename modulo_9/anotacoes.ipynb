{
 "cells": [
  {
   "cell_type": "code",
   "execution_count": 1,
   "id": "dcb3be92",
   "metadata": {},
   "outputs": [],
   "source": [
    "from time import time, sleep\n",
    "\n",
    "# função de exemplo\n",
    "def quadrado(valor,delay):\n",
    "    sleep(delay)\n",
    "    print(valor ** 2)\n",
    "    "
   ]
  },
  {
   "cell_type": "code",
   "execution_count": 4,
   "id": "4945b7ee",
   "metadata": {},
   "outputs": [
    {
     "name": "stdout",
     "output_type": "stream",
     "text": [
      "4\n",
      "25\n",
      "9\n",
      "O tempo total da execução foi: 7 segundos\n"
     ]
    }
   ],
   "source": [
    "# código sincrono\n",
    "\n",
    "inicio = time()\n",
    "quadrado(2,4)\n",
    "quadrado(5,1)\n",
    "quadrado(3,2)\n",
    "termino = time()\n",
    "\n",
    "print(f'O tempo total da execução foi: {abs(int(inicio - termino))} segundos')"
   ]
  },
  {
   "cell_type": "code",
   "execution_count": 5,
   "id": "39411a61",
   "metadata": {},
   "outputs": [
    {
     "name": "stdout",
     "output_type": "stream",
     "text": [
      "25\n",
      "9\n",
      "4\n",
      "O tempo total da execução foi: 4 segundos\n"
     ]
    }
   ],
   "source": [
    "from threading import Thread\n",
    "\n",
    "# Código assincrono usando a biblioteca threading\n",
    "inicio = time()\n",
    "\n",
    "resultado1 = Thread(target=quadrado, args=[2,4])\n",
    "resultado2 = Thread(target=quadrado, args=[5,1])\n",
    "resultado3 = Thread(target=quadrado, args=[3,2])\n",
    "\n",
    "resultado1.start()\n",
    "resultado2.start()\n",
    "resultado3.start()\n",
    "\n",
    "resultado1.join()\n",
    "resultado2.join()\n",
    "resultado3.join()\n",
    "\n",
    "termino = time()\n",
    "\n",
    "print(f'O tempo total da execução foi: {abs(int(inicio - termino))} segundos')"
   ]
  },
  {
   "cell_type": "markdown",
   "id": "1c3943b1",
   "metadata": {},
   "source": [
    "### Enquanto a uma das funções acima estava em sleep a outra foi processada, por isso chama-se processamento assincrono concorrente"
   ]
  },
  {
   "cell_type": "code",
   "execution_count": 6,
   "id": "5af318b0",
   "metadata": {},
   "outputs": [
    {
     "name": "stdout",
     "output_type": "stream",
     "text": [
      "25\n",
      "9\n",
      "4\n",
      "O tempo total da execução foi: 4 segundos\n"
     ]
    }
   ],
   "source": [
    "from concurrent import futures\n",
    "\n",
    "# Código assincrono usando a biblioteca concurrent\n",
    "inicio = time()\n",
    "\n",
    "with futures.ProcessPoolExecutor() as executor:\n",
    "    [e for e in executor.map(quadrado, (2,5,3), (4,1,2))]\n",
    "\n",
    "termino = time()\n",
    "\n",
    "print(f'O tempo total da execução foi: {abs(int(inicio - termino))} segundos')"
   ]
  }
 ],
 "metadata": {
  "kernelspec": {
   "display_name": "Python 3 (ipykernel)",
   "language": "python",
   "name": "python3"
  },
  "language_info": {
   "codemirror_mode": {
    "name": "ipython",
    "version": 3
   },
   "file_extension": ".py",
   "mimetype": "text/x-python",
   "name": "python",
   "nbconvert_exporter": "python",
   "pygments_lexer": "ipython3",
   "version": "3.8.10"
  }
 },
 "nbformat": 4,
 "nbformat_minor": 5
}
