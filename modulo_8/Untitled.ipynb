{
 "cells": [
  {
   "cell_type": "code",
   "execution_count": 1,
   "id": "9ee11260",
   "metadata": {},
   "outputs": [],
   "source": [
    "#importando a biblioteca para criar instancias do ec2\n",
    "from troposphere import Template, ec2"
   ]
  },
  {
   "cell_type": "code",
   "execution_count": 2,
   "id": "caa4747a",
   "metadata": {},
   "outputs": [],
   "source": [
    "#atribui a variavel template o objeto Template\n",
    "template =  Template()"
   ]
  },
  {
   "cell_type": "code",
   "execution_count": 5,
   "id": "2120bd67",
   "metadata": {},
   "outputs": [],
   "source": [
    "#Cria uma lista com as instancias ec2 que desejo criar\n",
    "instacias = [ec2.Instance('pythonpro', ImageId='ami-00399ec92321828f5', InstanceType='t2.micro'), ec2.Instance('pythonprodois', ImageId='ami-00399ec5424889564', InstanceType='t3.micro'), ec2.Instance('pythonprotres', ImageId='ami-00399ec92321825478a', InstanceType='t4.micro')]"
   ]
  },
  {
   "cell_type": "code",
   "execution_count": 6,
   "id": "55fa37cc",
   "metadata": {},
   "outputs": [],
   "source": [
    "#Adiciona ao objeto template cada uma das instancias que criei\n",
    "for i in instacias:\n",
    "    template.add_resource(i)"
   ]
  },
  {
   "cell_type": "code",
   "execution_count": 7,
   "id": "e1e3169a",
   "metadata": {},
   "outputs": [
    {
     "data": {
      "text/plain": [
       "'Resources:\\n  pythonpro:\\n    Properties:\\n      ImageId: ami-00399ec92321828f5\\n      InstanceType: t2.micro\\n    Type: AWS::EC2::Instance\\n  pythonprodois:\\n    Properties:\\n      ImageId: ami-00399ec5424889564\\n      InstanceType: t3.micro\\n    Type: AWS::EC2::Instance\\n  pythonprotres:\\n    Properties:\\n      ImageId: ami-00399ec92321825478a\\n      InstanceType: t4.micro\\n    Type: AWS::EC2::Instance\\n'"
      ]
     },
     "execution_count": 7,
     "metadata": {},
     "output_type": "execute_result"
    }
   ],
   "source": [
    "#Transforma o template criado em um arquivo yaml\n",
    "template.to_yaml()"
   ]
  },
  {
   "cell_type": "code",
   "execution_count": 15,
   "id": "2b4b4970",
   "metadata": {},
   "outputs": [
    {
     "name": "stdout",
     "output_type": "stream",
     "text": [
      "('Resources:\\n'\n",
      " '  pythonpro:\\n'\n",
      " '    Properties:\\n'\n",
      " '      ImageId: ami-00399ec92321828f5\\n'\n",
      " '      InstanceType: t2.micro\\n'\n",
      " '    Type: AWS::EC2::Instance\\n'\n",
      " '  pythonprodois:\\n'\n",
      " '    Properties:\\n'\n",
      " '      ImageId: ami-00399ec5424889564\\n'\n",
      " '      InstanceType: t3.micro\\n'\n",
      " '    Type: AWS::EC2::Instance\\n'\n",
      " '  pythonprotres:\\n'\n",
      " '    Properties:\\n'\n",
      " '      ImageId: ami-00399ec92321825478a\\n'\n",
      " '      InstanceType: t4.micro\\n'\n",
      " '    Type: AWS::EC2::Instance\\n')\n"
     ]
    }
   ],
   "source": [
    "# Confere se o arquivo foi criado com sucesso\n",
    "from pprint import pprint\n",
    "\n",
    "pprint(template.to_yaml())"
   ]
  }
 ],
 "metadata": {
  "kernelspec": {
   "display_name": "Python 3 (ipykernel)",
   "language": "python",
   "name": "python3"
  },
  "language_info": {
   "codemirror_mode": {
    "name": "ipython",
    "version": 3
   },
   "file_extension": ".py",
   "mimetype": "text/x-python",
   "name": "python",
   "nbconvert_exporter": "python",
   "pygments_lexer": "ipython3",
   "version": "3.8.10"
  }
 },
 "nbformat": 4,
 "nbformat_minor": 5
}
