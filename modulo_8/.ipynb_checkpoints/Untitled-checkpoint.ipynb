{
 "cells": [
  {
   "cell_type": "code",
   "execution_count": 1,
   "id": "ae92dab5",
   "metadata": {},
   "outputs": [],
   "source": [
    "from troposphere import Template, ec2"
   ]
  },
  {
   "cell_type": "code",
   "execution_count": 2,
   "id": "3316ddca",
   "metadata": {},
   "outputs": [],
   "source": [
    "template =  Template()"
   ]
  },
  {
   "cell_type": "code",
   "execution_count": null,
   "id": "c879b900",
   "metadata": {},
   "outputs": [],
   "source": []
  }
 ],
 "metadata": {
  "kernelspec": {
   "display_name": "Python 3 (ipykernel)",
   "language": "python",
   "name": "python3"
  },
  "language_info": {
   "codemirror_mode": {
    "name": "ipython",
    "version": 3
   },
   "file_extension": ".py",
   "mimetype": "text/x-python",
   "name": "python",
   "nbconvert_exporter": "python",
   "pygments_lexer": "ipython3",
   "version": "3.8.10"
  }
 },
 "nbformat": 4,
 "nbformat_minor": 5
}
