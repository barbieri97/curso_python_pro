{
 "cells": [
  {
   "cell_type": "markdown",
   "id": "f21dc817",
   "metadata": {},
   "source": [
    "# Aula 2 \n",
    "\n",
    "## Manipulando arquivos JSON"
   ]
  },
  {
   "cell_type": "code",
   "execution_count": 9,
   "id": "98df3bd3",
   "metadata": {},
   "outputs": [],
   "source": [
    "from json import dump, dumps, load, loads # s no final significa que a função devolve uma string no caso do dumps\n",
    "                                          # e recebe uma string no cado do loads"
   ]
  },
  {
   "cell_type": "code",
   "execution_count": 10,
   "id": "69df99b8",
   "metadata": {},
   "outputs": [],
   "source": [
    "json_exemplo = {\n",
    "    'chave1' : 'valor1',\n",
    "    'chave2' : 'valor2'\n",
    "}"
   ]
  },
  {
   "cell_type": "code",
   "execution_count": 12,
   "id": "63452906",
   "metadata": {},
   "outputs": [
    {
     "data": {
      "text/plain": [
       "str"
      ]
     },
     "execution_count": 12,
     "metadata": {},
     "output_type": "execute_result"
    }
   ],
   "source": [
    "# transformando um dict em str\n",
    "string_json = dumps(json_exemplo)\n",
    "type(string_json)"
   ]
  },
  {
   "cell_type": "code",
   "execution_count": 13,
   "id": "9382fd19",
   "metadata": {},
   "outputs": [
    {
     "data": {
      "text/plain": [
       "dict"
      ]
     },
     "execution_count": 13,
     "metadata": {},
     "output_type": "execute_result"
    }
   ],
   "source": [
    "# transformando uma str para dicionario\n",
    "json_str2dict = loads(string_json)\n",
    "type(json_str2dict)"
   ]
  },
  {
   "cell_type": "code",
   "execution_count": 17,
   "id": "f9658fe7",
   "metadata": {},
   "outputs": [
    {
     "ename": "ValueError",
     "evalue": "must have exactly one of create/read/write/append mode",
     "output_type": "error",
     "traceback": [
      "\u001b[0;31m---------------------------------------------------------------------------\u001b[0m",
      "\u001b[0;31mValueError\u001b[0m                                Traceback (most recent call last)",
      "\u001b[0;32m/tmp/ipykernel_8921/347631320.py\u001b[0m in \u001b[0;36m<module>\u001b[0;34m\u001b[0m\n\u001b[1;32m      1\u001b[0m \u001b[0;31m# a função dump gera um arquivo json\u001b[0m\u001b[0;34m\u001b[0m\u001b[0;34m\u001b[0m\u001b[0;34m\u001b[0m\u001b[0m\n\u001b[0;32m----> 2\u001b[0;31m \u001b[0;32mwith\u001b[0m \u001b[0mopen\u001b[0m\u001b[0;34m(\u001b[0m\u001b[0;34m'json_exemplo.json'\u001b[0m\u001b[0;34m,\u001b[0m \u001b[0;34m'wa'\u001b[0m\u001b[0;34m)\u001b[0m \u001b[0;32mas\u001b[0m \u001b[0mfile\u001b[0m\u001b[0;34m:\u001b[0m\u001b[0;34m\u001b[0m\u001b[0;34m\u001b[0m\u001b[0m\n\u001b[0m\u001b[1;32m      3\u001b[0m     \u001b[0mdump\u001b[0m\u001b[0;34m(\u001b[0m\u001b[0mjson_str2dict\u001b[0m\u001b[0;34m,\u001b[0m \u001b[0mfile\u001b[0m\u001b[0;34m)\u001b[0m \u001b[0;31m# recebe um dict e o arquivo onde deve ser criado\u001b[0m\u001b[0;34m\u001b[0m\u001b[0;34m\u001b[0m\u001b[0m\n",
      "\u001b[0;31mValueError\u001b[0m: must have exactly one of create/read/write/append mode"
     ]
    }
   ],
   "source": [
    "# a função dump gera um arquivo json\n",
    "with open('json_exemplo.json', 'w') as file:\n",
    "    dump(json_str2dict, file) # recebe um dict e o arquivo onde deve ser criado"
   ]
  },
  {
   "cell_type": "code",
   "execution_count": 16,
   "id": "c877e440",
   "metadata": {},
   "outputs": [
    {
     "data": {
      "text/plain": [
       "{'chave1': 'valor1', 'chave2': 'valor2'}"
      ]
     },
     "execution_count": 16,
     "metadata": {},
     "output_type": "execute_result"
    }
   ],
   "source": [
    "# lendo um arquivo json\n",
    "with open('json_exemplo.json') as file:\n",
    "    leitura_json = load(file)\n",
    "    \n",
    "leitura_json"
   ]
  },
  {
   "cell_type": "markdown",
   "id": "b71c4831",
   "metadata": {},
   "source": [
    "# Aula 3\n",
    "\n",
    "## Manipulando arquivos XML"
   ]
  },
  {
   "cell_type": "code",
   "execution_count": 19,
   "id": "b5a9487e",
   "metadata": {},
   "outputs": [],
   "source": [
    "from xml.etree import ElementTree"
   ]
  },
  {
   "cell_type": "code",
   "execution_count": 20,
   "id": "5d64a94b",
   "metadata": {},
   "outputs": [],
   "source": [
    "parsed_xml = ElementTree.parse('exemplo_xml.xml')"
   ]
  },
  {
   "cell_type": "code",
   "execution_count": 22,
   "id": "cad34408",
   "metadata": {},
   "outputs": [],
   "source": [
    "root = parsed_xml.getroot()"
   ]
  },
  {
   "cell_type": "code",
   "execution_count": 23,
   "id": "1cc5fedc",
   "metadata": {},
   "outputs": [
    {
     "data": {
      "text/plain": [
       "'mentorama'"
      ]
     },
     "execution_count": 23,
     "metadata": {},
     "output_type": "execute_result"
    }
   ],
   "source": [
    "root.tag"
   ]
  },
  {
   "cell_type": "code",
   "execution_count": 24,
   "id": "70cdf678",
   "metadata": {},
   "outputs": [
    {
     "data": {
      "text/plain": [
       "{'year': '2021'}"
      ]
     },
     "execution_count": 24,
     "metadata": {},
     "output_type": "execute_result"
    }
   ],
   "source": [
    "root.attrib"
   ]
  },
  {
   "cell_type": "code",
   "execution_count": 26,
   "id": "98479557",
   "metadata": {},
   "outputs": [
    {
     "data": {
      "text/plain": [
       "'2021'"
      ]
     },
     "execution_count": 26,
     "metadata": {},
     "output_type": "execute_result"
    }
   ],
   "source": [
    "root.attrib.get('year')"
   ]
  },
  {
   "cell_type": "code",
   "execution_count": 27,
   "id": "3dd9889f",
   "metadata": {},
   "outputs": [
    {
     "data": {
      "text/plain": [
       "[{'type': 'iniciante'}, {'type': 'profissiona'}]"
      ]
     },
     "execution_count": 27,
     "metadata": {},
     "output_type": "execute_result"
    }
   ],
   "source": [
    "[tag.attrib for tag in root.findall('python')]"
   ]
  },
  {
   "cell_type": "code",
   "execution_count": 28,
   "id": "4b5d31b9",
   "metadata": {},
   "outputs": [
    {
     "data": {
      "text/plain": [
       "['8', '9']"
      ]
     },
     "execution_count": 28,
     "metadata": {},
     "output_type": "execute_result"
    }
   ],
   "source": [
    "[tag.find('modulos').text for tag in root.findall('python')]"
   ]
  },
  {
   "cell_type": "markdown",
   "id": "81559d7a",
   "metadata": {},
   "source": [
    "# Aula 4\n",
    "\n",
    "## Arquvos YAML"
   ]
  },
  {
   "cell_type": "code",
   "execution_count": 37,
   "id": "279078cb",
   "metadata": {},
   "outputs": [],
   "source": [
    "from yaml import load, FullLoader, dump # dump aqui é diferente do dump do jsnon"
   ]
  },
  {
   "cell_type": "code",
   "execution_count": 32,
   "id": "a6fa9344",
   "metadata": {},
   "outputs": [
    {
     "ename": "FileNotFoundError",
     "evalue": "[Errno 2] No such file or directory: 'exemplo_yaml.yaml'",
     "output_type": "error",
     "traceback": [
      "\u001b[0;31m---------------------------------------------------------------------------\u001b[0m",
      "\u001b[0;31mFileNotFoundError\u001b[0m                         Traceback (most recent call last)",
      "\u001b[0;32m/tmp/ipykernel_8921/586927069.py\u001b[0m in \u001b[0;36m<module>\u001b[0;34m\u001b[0m\n\u001b[1;32m      1\u001b[0m \u001b[0;31m# carregando um arquivo yaml vai dar erro pq não tenho esse arquivo\u001b[0m\u001b[0;34m\u001b[0m\u001b[0;34m\u001b[0m\u001b[0;34m\u001b[0m\u001b[0m\n\u001b[1;32m      2\u001b[0m \u001b[0;34m\u001b[0m\u001b[0m\n\u001b[0;32m----> 3\u001b[0;31m \u001b[0;32mwith\u001b[0m \u001b[0mopen\u001b[0m\u001b[0;34m(\u001b[0m\u001b[0;34m'exemplo_yaml.yaml'\u001b[0m\u001b[0;34m)\u001b[0m \u001b[0;32mas\u001b[0m \u001b[0mfile\u001b[0m\u001b[0;34m:\u001b[0m\u001b[0;34m\u001b[0m\u001b[0;34m\u001b[0m\u001b[0m\n\u001b[0m\u001b[1;32m      4\u001b[0m     \u001b[0myaml_file\u001b[0m \u001b[0;34m=\u001b[0m \u001b[0mload\u001b[0m\u001b[0;34m(\u001b[0m\u001b[0mfile\u001b[0m\u001b[0;34m,\u001b[0m \u001b[0mloader\u001b[0m\u001b[0;34m=\u001b[0m\u001b[0mFullLoader\u001b[0m\u001b[0;34m)\u001b[0m\u001b[0;34m\u001b[0m\u001b[0;34m\u001b[0m\u001b[0m\n",
      "\u001b[0;31mFileNotFoundError\u001b[0m: [Errno 2] No such file or directory: 'exemplo_yaml.yaml'"
     ]
    }
   ],
   "source": [
    "# carregando um arquivo yaml vai dar erro pq não tenho esse arquivo\n",
    "\n",
    "with open('exemplo_yaml.yml') as file:\n",
    "    yaml_file = load(file, loader=FullLoader)"
   ]
  },
  {
   "cell_type": "code",
   "execution_count": 34,
   "id": "f970bcde",
   "metadata": {},
   "outputs": [],
   "source": [
    "# criando um arquivo YAML\n",
    "\n",
    "dict2yaml = {\n",
    "    'formatos': [\n",
    "        'jsnon',\n",
    "        'yaml'\n",
    "    ],\n",
    "    'markup languages': [\n",
    "        'html',\n",
    "        'xml',\n",
    "        'sgml'\n",
    "    ]\n",
    "}"
   ]
  },
  {
   "cell_type": "code",
   "execution_count": 38,
   "id": "1e84a5e5",
   "metadata": {},
   "outputs": [],
   "source": [
    "with open('novo_yaml.yml', 'w') as file:\n",
    "    dump(dict2yaml, file)"
   ]
  },
  {
   "cell_type": "markdown",
   "id": "aa5e4238",
   "metadata": {},
   "source": [
    "# Aula 5\n",
    "\n",
    "## expressões regulares"
   ]
  },
  {
   "cell_type": "code",
   "execution_count": 40,
   "id": "24ad2ed3",
   "metadata": {},
   "outputs": [],
   "source": [
    "from re import findall, search"
   ]
  },
  {
   "cell_type": "code",
   "execution_count": null,
   "id": "129e6fb8",
   "metadata": {},
   "outputs": [],
   "source": [
    "ex = 'estamos estudando python no curso python pro da mentorama'"
   ]
  },
  {
   "cell_type": "code",
   "execution_count": 41,
   "id": "6772f783",
   "metadata": {},
   "outputs": [
    {
     "data": {
      "text/plain": [
       "['da', 'da']"
      ]
     },
     "execution_count": 41,
     "metadata": {},
     "output_type": "execute_result"
    }
   ],
   "source": [
    "findall('da', ex)"
   ]
  },
  {
   "cell_type": "code",
   "execution_count": null,
   "id": "21ea2398",
   "metadata": {},
   "outputs": [],
   "source": []
  }
 ],
 "metadata": {
  "kernelspec": {
   "display_name": "Python 3 (ipykernel)",
   "language": "python",
   "name": "python3"
  },
  "language_info": {
   "codemirror_mode": {
    "name": "ipython",
    "version": 3
   },
   "file_extension": ".py",
   "mimetype": "text/x-python",
   "name": "python",
   "nbconvert_exporter": "python",
   "pygments_lexer": "ipython3",
   "version": "3.8.10"
  }
 },
 "nbformat": 4,
 "nbformat_minor": 5
}
