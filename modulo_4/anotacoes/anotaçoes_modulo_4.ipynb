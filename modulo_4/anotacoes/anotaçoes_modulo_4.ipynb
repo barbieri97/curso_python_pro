{
 "cells": [
  {
   "cell_type": "markdown",
   "id": "cf561b29",
   "metadata": {},
   "source": [
    "# Aula 2 \n",
    "\n",
    "## Manipulando arquivos JSON"
   ]
  },
  {
   "cell_type": "code",
   "execution_count": 9,
   "id": "81ebe00b",
   "metadata": {},
   "outputs": [],
   "source": [
    "from json import dump, dumps, load, loads # s no final significa que a função devolve uma string no caso do dumps\n",
    "                                          # e recebe uma string no cado do loads"
   ]
  },
  {
   "cell_type": "code",
   "execution_count": 10,
   "id": "7bff430a",
   "metadata": {},
   "outputs": [],
   "source": [
    "json_exemplo = {\n",
    "    'chave1' : 'valor1',\n",
    "    'chave2' : 'valor2'\n",
    "}"
   ]
  },
  {
   "cell_type": "code",
   "execution_count": 12,
   "id": "c96db763",
   "metadata": {},
   "outputs": [
    {
     "data": {
      "text/plain": [
       "str"
      ]
     },
     "execution_count": 12,
     "metadata": {},
     "output_type": "execute_result"
    }
   ],
   "source": [
    "# transformando um dict em str\n",
    "string_json = dumps(json_exemplo)\n",
    "type(string_json)"
   ]
  },
  {
   "cell_type": "code",
   "execution_count": 13,
   "id": "ac1c0770",
   "metadata": {},
   "outputs": [
    {
     "data": {
      "text/plain": [
       "dict"
      ]
     },
     "execution_count": 13,
     "metadata": {},
     "output_type": "execute_result"
    }
   ],
   "source": [
    "# transformando uma str para dicionario\n",
    "json_str2dict = loads(string_json)\n",
    "type(json_str2dict)"
   ]
  },
  {
   "cell_type": "code",
   "execution_count": 17,
   "id": "d9f2034e",
   "metadata": {},
   "outputs": [
    {
     "ename": "ValueError",
     "evalue": "must have exactly one of create/read/write/append mode",
     "output_type": "error",
     "traceback": [
      "\u001b[0;31m---------------------------------------------------------------------------\u001b[0m",
      "\u001b[0;31mValueError\u001b[0m                                Traceback (most recent call last)",
      "\u001b[0;32m/tmp/ipykernel_8921/347631320.py\u001b[0m in \u001b[0;36m<module>\u001b[0;34m\u001b[0m\n\u001b[1;32m      1\u001b[0m \u001b[0;31m# a função dump gera um arquivo json\u001b[0m\u001b[0;34m\u001b[0m\u001b[0;34m\u001b[0m\u001b[0;34m\u001b[0m\u001b[0m\n\u001b[0;32m----> 2\u001b[0;31m \u001b[0;32mwith\u001b[0m \u001b[0mopen\u001b[0m\u001b[0;34m(\u001b[0m\u001b[0;34m'json_exemplo.json'\u001b[0m\u001b[0;34m,\u001b[0m \u001b[0;34m'wa'\u001b[0m\u001b[0;34m)\u001b[0m \u001b[0;32mas\u001b[0m \u001b[0mfile\u001b[0m\u001b[0;34m:\u001b[0m\u001b[0;34m\u001b[0m\u001b[0;34m\u001b[0m\u001b[0m\n\u001b[0m\u001b[1;32m      3\u001b[0m     \u001b[0mdump\u001b[0m\u001b[0;34m(\u001b[0m\u001b[0mjson_str2dict\u001b[0m\u001b[0;34m,\u001b[0m \u001b[0mfile\u001b[0m\u001b[0;34m)\u001b[0m \u001b[0;31m# recebe um dict e o arquivo onde deve ser criado\u001b[0m\u001b[0;34m\u001b[0m\u001b[0;34m\u001b[0m\u001b[0m\n",
      "\u001b[0;31mValueError\u001b[0m: must have exactly one of create/read/write/append mode"
     ]
    }
   ],
   "source": [
    "# a função dump gera um arquivo json\n",
    "with open('json_exemplo.json', 'w') as file:\n",
    "    dump(json_str2dict, file) # recebe um dict e o arquivo onde deve ser criado"
   ]
  },
  {
   "cell_type": "code",
   "execution_count": 16,
   "id": "36671657",
   "metadata": {},
   "outputs": [
    {
     "data": {
      "text/plain": [
       "{'chave1': 'valor1', 'chave2': 'valor2'}"
      ]
     },
     "execution_count": 16,
     "metadata": {},
     "output_type": "execute_result"
    }
   ],
   "source": [
    "# lendo um arquivo json\n",
    "with open('json_exemplo.json') as file:\n",
    "    leitura_json = load(file)\n",
    "    \n",
    "leitura_json"
   ]
  },
  {
   "cell_type": "markdown",
   "id": "b0a3561a",
   "metadata": {},
   "source": [
    "# Aula 3\n",
    "\n",
    "## Manipulando arquivos XML"
   ]
  },
  {
   "cell_type": "code",
   "execution_count": 19,
   "id": "2ae484a4",
   "metadata": {},
   "outputs": [],
   "source": [
    "from xml.etree import ElementTree"
   ]
  },
  {
   "cell_type": "code",
   "execution_count": 20,
   "id": "78a8d4ee",
   "metadata": {},
   "outputs": [],
   "source": [
    "parsed_xml = ElementTree.parse('exemplo_xml.xml')"
   ]
  },
  {
   "cell_type": "code",
   "execution_count": 22,
   "id": "12ddcc47",
   "metadata": {},
   "outputs": [],
   "source": [
    "root = parsed_xml.getroot()"
   ]
  },
  {
   "cell_type": "code",
   "execution_count": 23,
   "id": "b2953ead",
   "metadata": {},
   "outputs": [
    {
     "data": {
      "text/plain": [
       "'mentorama'"
      ]
     },
     "execution_count": 23,
     "metadata": {},
     "output_type": "execute_result"
    }
   ],
   "source": [
    "root.tag"
   ]
  },
  {
   "cell_type": "code",
   "execution_count": 24,
   "id": "e65f1806",
   "metadata": {},
   "outputs": [
    {
     "data": {
      "text/plain": [
       "{'year': '2021'}"
      ]
     },
     "execution_count": 24,
     "metadata": {},
     "output_type": "execute_result"
    }
   ],
   "source": [
    "root.attrib"
   ]
  },
  {
   "cell_type": "code",
   "execution_count": 26,
   "id": "ca9a553c",
   "metadata": {},
   "outputs": [
    {
     "data": {
      "text/plain": [
       "'2021'"
      ]
     },
     "execution_count": 26,
     "metadata": {},
     "output_type": "execute_result"
    }
   ],
   "source": [
    "root.attrib.get('year')"
   ]
  },
  {
   "cell_type": "code",
   "execution_count": 27,
   "id": "6fe399e4",
   "metadata": {},
   "outputs": [
    {
     "data": {
      "text/plain": [
       "[{'type': 'iniciante'}, {'type': 'profissiona'}]"
      ]
     },
     "execution_count": 27,
     "metadata": {},
     "output_type": "execute_result"
    }
   ],
   "source": [
    "[tag.attrib for tag in root.findall('python')]"
   ]
  },
  {
   "cell_type": "code",
   "execution_count": 28,
   "id": "3b7e53e4",
   "metadata": {},
   "outputs": [
    {
     "data": {
      "text/plain": [
       "['8', '9']"
      ]
     },
     "execution_count": 28,
     "metadata": {},
     "output_type": "execute_result"
    }
   ],
   "source": [
    "[tag.find('modulos').text for tag in root.findall('python')]"
   ]
  },
  {
   "cell_type": "markdown",
   "id": "495c0f33",
   "metadata": {},
   "source": [
    "# Aula 4\n",
    "\n",
    "## Arquvos YAML"
   ]
  },
  {
   "cell_type": "code",
   "execution_count": 37,
   "id": "5ea87147",
   "metadata": {},
   "outputs": [],
   "source": [
    "from yaml import load, FullLoader, dump # dump aqui é diferente do dump do jsnon"
   ]
  },
  {
   "cell_type": "code",
   "execution_count": 32,
   "id": "8637c3b1",
   "metadata": {},
   "outputs": [
    {
     "ename": "FileNotFoundError",
     "evalue": "[Errno 2] No such file or directory: 'exemplo_yaml.yaml'",
     "output_type": "error",
     "traceback": [
      "\u001b[0;31m---------------------------------------------------------------------------\u001b[0m",
      "\u001b[0;31mFileNotFoundError\u001b[0m                         Traceback (most recent call last)",
      "\u001b[0;32m/tmp/ipykernel_8921/586927069.py\u001b[0m in \u001b[0;36m<module>\u001b[0;34m\u001b[0m\n\u001b[1;32m      1\u001b[0m \u001b[0;31m# carregando um arquivo yaml vai dar erro pq não tenho esse arquivo\u001b[0m\u001b[0;34m\u001b[0m\u001b[0;34m\u001b[0m\u001b[0;34m\u001b[0m\u001b[0m\n\u001b[1;32m      2\u001b[0m \u001b[0;34m\u001b[0m\u001b[0m\n\u001b[0;32m----> 3\u001b[0;31m \u001b[0;32mwith\u001b[0m \u001b[0mopen\u001b[0m\u001b[0;34m(\u001b[0m\u001b[0;34m'exemplo_yaml.yaml'\u001b[0m\u001b[0;34m)\u001b[0m \u001b[0;32mas\u001b[0m \u001b[0mfile\u001b[0m\u001b[0;34m:\u001b[0m\u001b[0;34m\u001b[0m\u001b[0;34m\u001b[0m\u001b[0m\n\u001b[0m\u001b[1;32m      4\u001b[0m     \u001b[0myaml_file\u001b[0m \u001b[0;34m=\u001b[0m \u001b[0mload\u001b[0m\u001b[0;34m(\u001b[0m\u001b[0mfile\u001b[0m\u001b[0;34m,\u001b[0m \u001b[0mloader\u001b[0m\u001b[0;34m=\u001b[0m\u001b[0mFullLoader\u001b[0m\u001b[0;34m)\u001b[0m\u001b[0;34m\u001b[0m\u001b[0;34m\u001b[0m\u001b[0m\n",
      "\u001b[0;31mFileNotFoundError\u001b[0m: [Errno 2] No such file or directory: 'exemplo_yaml.yaml'"
     ]
    }
   ],
   "source": [
    "# carregando um arquivo yaml vai dar erro pq não tenho esse arquivo\n",
    "\n",
    "with open('exemplo_yaml.yml') as file:\n",
    "    yaml_file = load(file, loader=FullLoader)"
   ]
  },
  {
   "cell_type": "code",
   "execution_count": 34,
   "id": "dc371ca8",
   "metadata": {},
   "outputs": [],
   "source": [
    "# criando um arquivo YAML\n",
    "\n",
    "dict2yaml = {\n",
    "    'formatos': [\n",
    "        'jsnon',\n",
    "        'yaml'\n",
    "    ],\n",
    "    'markup languages': [\n",
    "        'html',\n",
    "        'xml',\n",
    "        'sgml'\n",
    "    ]\n",
    "}"
   ]
  },
  {
   "cell_type": "code",
   "execution_count": 38,
   "id": "89ebe820",
   "metadata": {},
   "outputs": [],
   "source": [
    "with open('novo_yaml.yml', 'w') as file:\n",
    "    dump(dict2yaml, file)"
   ]
  },
  {
   "cell_type": "markdown",
   "id": "5ede410b",
   "metadata": {},
   "source": [
    "# Aula 5\n",
    "\n",
    "## expressões regulares"
   ]
  },
  {
   "cell_type": "code",
   "execution_count": 47,
   "id": "4eef5bdf",
   "metadata": {},
   "outputs": [],
   "source": [
    "from re import findall, search"
   ]
  },
  {
   "cell_type": "code",
   "execution_count": 48,
   "id": "fabc13a5",
   "metadata": {},
   "outputs": [],
   "source": [
    "ex = 'estamos estudando python no curso python pro da mentorama'"
   ]
  },
  {
   "cell_type": "code",
   "execution_count": 41,
   "id": "70eb1367",
   "metadata": {},
   "outputs": [
    {
     "data": {
      "text/plain": [
       "['da', 'da']"
      ]
     },
     "execution_count": 41,
     "metadata": {},
     "output_type": "execute_result"
    }
   ],
   "source": [
    "findall('da', ex)"
   ]
  },
  {
   "cell_type": "code",
   "execution_count": 44,
   "id": "52415e33",
   "metadata": {},
   "outputs": [
    {
     "data": {
      "text/plain": [
       "12"
      ]
     },
     "execution_count": 44,
     "metadata": {},
     "output_type": "execute_result"
    }
   ],
   "source": [
    "search('da', ex).start() # retorna a posição do primeiro termo encontrado"
   ]
  },
  {
   "cell_type": "code",
   "execution_count": 50,
   "id": "4f3bf68f",
   "metadata": {},
   "outputs": [],
   "source": [
    "ex_carac_especiais = 'estamos @ estudando python no curso #python pro da mentorama'"
   ]
  },
  {
   "cell_type": "code",
   "execution_count": 53,
   "id": "4c210168",
   "metadata": {},
   "outputs": [
    {
     "data": {
      "text/plain": [
       "['estamos',\n",
       " 'estudando',\n",
       " 'python',\n",
       " 'no',\n",
       " 'curso',\n",
       " 'python',\n",
       " 'pro',\n",
       " 'da',\n",
       " 'mentorama']"
      ]
     },
     "execution_count": 53,
     "metadata": {},
     "output_type": "execute_result"
    }
   ],
   "source": [
    "findall(r'\\w+', ex_carac_especiais)"
   ]
  },
  {
   "cell_type": "code",
   "execution_count": 62,
   "id": "4a01b2e5",
   "metadata": {},
   "outputs": [],
   "source": [
    "ex2 = 'estamos estudando p thon no curso python pro da mentorama'"
   ]
  },
  {
   "cell_type": "code",
   "execution_count": 63,
   "id": "e7ba16ed",
   "metadata": {},
   "outputs": [
    {
     "data": {
      "text/plain": [
       "['p thon', 'python']"
      ]
     },
     "execution_count": 63,
     "metadata": {},
     "output_type": "execute_result"
    }
   ],
   "source": [
    "findall(r'p.thon', ex2) # o . coloca qualquer ocorrencia no local"
   ]
  },
  {
   "cell_type": "code",
   "execution_count": 71,
   "id": "fdf40ea0",
   "metadata": {},
   "outputs": [],
   "source": [
    "padrao = r'\\bpy\\w+' # identifica o py no inicio de cada palavra\n",
    "padrao2 = r'py\\b' # identifica o py só no final da palavra\n",
    "ex3 = 'python é uma linguagem pythonica e possuem a extensão .py'"
   ]
  },
  {
   "cell_type": "code",
   "execution_count": 72,
   "id": "857b1c32",
   "metadata": {},
   "outputs": [
    {
     "data": {
      "text/plain": [
       "['python', 'pythonica']"
      ]
     },
     "execution_count": 72,
     "metadata": {},
     "output_type": "execute_result"
    }
   ],
   "source": [
    "findall(padrao, ex3)"
   ]
  }
 ],
 "metadata": {
  "kernelspec": {
   "display_name": "Python 3 (ipykernel)",
   "language": "python",
   "name": "python3"
  },
  "language_info": {
   "codemirror_mode": {
    "name": "ipython",
    "version": 3
   },
   "file_extension": ".py",
   "mimetype": "text/x-python",
   "name": "python",
   "nbconvert_exporter": "python",
   "pygments_lexer": "ipython3",
   "version": "3.8.10"
  }
 },
 "nbformat": 4,
 "nbformat_minor": 5
}
