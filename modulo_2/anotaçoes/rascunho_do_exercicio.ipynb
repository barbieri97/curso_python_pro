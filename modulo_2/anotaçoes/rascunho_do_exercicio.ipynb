{
 "cells": [
  {
   "cell_type": "code",
   "execution_count": 32,
   "id": "652adde4",
   "metadata": {},
   "outputs": [],
   "source": [
    "class Fibonacci():\n",
    "    def __init__(self, var):\n",
    "        self.anterior = 0\n",
    "        self.proximo = 1\n",
    "        self.iteracao = var\n",
    "    \n",
    "    def __iter__(self):\n",
    "        self.i = 0\n",
    "\n",
    "        return self\n",
    "    \n",
    "    def __next__(self):\n",
    "        \n",
    "        self.i += 1\n",
    "        \n",
    "        if self.i == 1 and self.iteracao != 0:\n",
    "            self.iteracao -= 1\n",
    "            return 0\n",
    "                \n",
    "        if self.i == 2 and self.iteracao != 0:\n",
    "            self.iteracao -= 1\n",
    "            return 1\n",
    "        \n",
    "        elif self.iteracao == 0:\n",
    "            raise StopIteration\n",
    "        \n",
    "        else:\n",
    "            x = self.anterior + self.proximo\n",
    "            self.anterior = self.proximo\n",
    "            self.proximo = x\n",
    "            self.iteracao -= 1\n",
    "            return self.proximo"
   ]
  },
  {
   "cell_type": "code",
   "execution_count": 33,
   "id": "860feef0",
   "metadata": {},
   "outputs": [],
   "source": [
    "cont = Fibonacci(5)\n",
    "\n",
    "x = iter(cont)"
   ]
  },
  {
   "cell_type": "code",
   "execution_count": 34,
   "id": "6007a9ed",
   "metadata": {},
   "outputs": [
    {
     "name": "stdout",
     "output_type": "stream",
     "text": [
      "0\n",
      "1\n",
      "1\n",
      "2\n",
      "3\n"
     ]
    }
   ],
   "source": [
    "for z in x:\n",
    "    print(z)"
   ]
  }
 ],
 "metadata": {
  "kernelspec": {
   "display_name": "Python 3 (ipykernel)",
   "language": "python",
   "name": "python3"
  },
  "language_info": {
   "codemirror_mode": {
    "name": "ipython",
    "version": 3
   },
   "file_extension": ".py",
   "mimetype": "text/x-python",
   "name": "python",
   "nbconvert_exporter": "python",
   "pygments_lexer": "ipython3",
   "version": "3.8.10"
  }
 },
 "nbformat": 4,
 "nbformat_minor": 5
}
