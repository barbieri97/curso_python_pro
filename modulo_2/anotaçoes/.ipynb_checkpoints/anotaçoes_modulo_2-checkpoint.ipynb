{
 "cells": [
  {
   "cell_type": "markdown",
   "id": "655c0eb6",
   "metadata": {},
   "source": [
    "# Aula 1\n",
    "\n",
    "### list comprehension"
   ]
  },
  {
   "cell_type": "code",
   "execution_count": 1,
   "id": "7e50f97c",
   "metadata": {},
   "outputs": [
    {
     "data": {
      "text/plain": [
       "[1, 2, 3, 4, 5, 6, 7, 8, 9, 10]"
      ]
     },
     "execution_count": 1,
     "metadata": {},
     "output_type": "execute_result"
    }
   ],
   "source": [
    "lista = [x for x in range(1, 11)]\n",
    "lista"
   ]
  },
  {
   "cell_type": "code",
   "execution_count": 2,
   "id": "5b48083f",
   "metadata": {},
   "outputs": [
    {
     "data": {
      "text/plain": [
       "[2, 4, 6, 8, 10]"
      ]
     },
     "execution_count": 2,
     "metadata": {},
     "output_type": "execute_result"
    }
   ],
   "source": [
    "lista2 = [x for x in range(1, 11) if x % 2 == 0]\n",
    "lista2"
   ]
  },
  {
   "cell_type": "code",
   "execution_count": 5,
   "id": "7dbff280",
   "metadata": {
    "scrolled": false
   },
   "outputs": [
    {
     "data": {
      "text/plain": [
       "{1: 'a',\n",
       " 2: 'b',\n",
       " 3: 'c',\n",
       " 4: 'd',\n",
       " 5: 'e',\n",
       " 6: 'f',\n",
       " 7: 'g',\n",
       " 8: 'h',\n",
       " 9: 'i',\n",
       " 10: 'j',\n",
       " 11: 'k',\n",
       " 12: 'l',\n",
       " 13: 'm',\n",
       " 14: 'n',\n",
       " 15: 'o',\n",
       " 16: 'p',\n",
       " 17: 'q',\n",
       " 18: 'r',\n",
       " 19: 's',\n",
       " 20: 't',\n",
       " 21: 'u',\n",
       " 22: 'v',\n",
       " 23: 'x',\n",
       " 24: 'y',\n",
       " 25: 'z'}"
      ]
     },
     "execution_count": 5,
     "metadata": {},
     "output_type": "execute_result"
    }
   ],
   "source": [
    "dicionario = {k + 1 : v for k,v in enumerate('abcdefghijklmnopqrstuvxyz')}\n",
    "dicionario"
   ]
  },
  {
   "cell_type": "code",
   "execution_count": 6,
   "id": "f0331232",
   "metadata": {},
   "outputs": [
    {
     "data": {
      "text/plain": [
       "{2: 'b',\n",
       " 3: 'c',\n",
       " 4: 'd',\n",
       " 6: 'f',\n",
       " 7: 'g',\n",
       " 8: 'h',\n",
       " 10: 'j',\n",
       " 11: 'k',\n",
       " 12: 'l',\n",
       " 13: 'm',\n",
       " 14: 'n',\n",
       " 16: 'p',\n",
       " 17: 'q',\n",
       " 18: 'r',\n",
       " 19: 's',\n",
       " 20: 't',\n",
       " 22: 'v',\n",
       " 23: 'x',\n",
       " 24: 'y',\n",
       " 25: 'z'}"
      ]
     },
     "execution_count": 6,
     "metadata": {},
     "output_type": "execute_result"
    }
   ],
   "source": [
    "dicionario2 = {k + 1 : v for k,v in enumerate('abcdefghijklmnopqrstuvxyz') if v not in 'aeiou'}\n",
    "dicionario2"
   ]
  },
  {
   "cell_type": "markdown",
   "id": "9d4122c5",
   "metadata": {},
   "source": [
    "# aula 2\n",
    "\n",
    "### Magic methods e a inicialização"
   ]
  },
  {
   "cell_type": "code",
   "execution_count": 7,
   "id": "061f1e0e",
   "metadata": {},
   "outputs": [],
   "source": [
    "from json import load"
   ]
  },
  {
   "cell_type": "code",
   "execution_count": 17,
   "id": "7aca7afe",
   "metadata": {},
   "outputs": [],
   "source": [
    "class Sistema():\n",
    "    def __init__(self):\n",
    "        with open('acesso.json') as f:\n",
    "            acesso = load(f)\n",
    "            \n",
    "        self.login = acesso['login']\n",
    "        self.senha = acesso['senha']\n",
    "        \n",
    "    def verificacao(self):\n",
    "        try:\n",
    "            assert self.login == 'admin'\n",
    "            assert self.senha == 'senha'\n",
    "            return True\n",
    "        except:\n",
    "            return False\n",
    "        \n",
    "    def usuario(self):\n",
    "        return self.login"
   ]
  },
  {
   "cell_type": "code",
   "execution_count": 20,
   "id": "ed791b79",
   "metadata": {},
   "outputs": [
    {
     "name": "stdout",
     "output_type": "stream",
     "text": [
      "True admin\n"
     ]
    }
   ],
   "source": [
    "sis = Sistema()\n",
    "print(\n",
    "sis.verificacao(),\n",
    "sis.usuario()\n",
    ")"
   ]
  },
  {
   "cell_type": "code",
   "execution_count": 23,
   "id": "c4e71931",
   "metadata": {},
   "outputs": [],
   "source": [
    "# mesmo codigo de cima mas com login e senha passado na função\n",
    "\n",
    "class Sistema2():\n",
    "    def __init__(self, login, senha):\n",
    "        self.login = login\n",
    "        self.senha = senha\n",
    "        \n",
    "    def verificacao2(self):\n",
    "        try:\n",
    "            assert self.login == 'admin'\n",
    "            assert self.senha == 'senha'\n",
    "            return True\n",
    "        except:\n",
    "            return False\n",
    "        \n",
    "    def usuario2(self):\n",
    "        return self.login"
   ]
  },
  {
   "cell_type": "code",
   "execution_count": 25,
   "id": "3e768ab4",
   "metadata": {},
   "outputs": [
    {
     "name": "stdout",
     "output_type": "stream",
     "text": [
      "True admin\n"
     ]
    }
   ],
   "source": [
    "sis2 = Sistema2('admin', 'senha')\n",
    "print(\n",
    "sis2.verificacao2(),\n",
    "sis2.usuario2()\n",
    ")"
   ]
  },
  {
   "cell_type": "markdown",
   "id": "1c92a484",
   "metadata": {},
   "source": [
    "# Aula 3\n",
    "\n",
    "### iterators, generators decorators"
   ]
  },
  {
   "cell_type": "markdown",
   "id": "aecce2cc",
   "metadata": {},
   "source": [
    "## Criando um iterator"
   ]
  },
  {
   "cell_type": "code",
   "execution_count": 61,
   "id": "154a57ef",
   "metadata": {},
   "outputs": [],
   "source": [
    "class Contador():\n",
    "    def __iter__(self):\n",
    "        self.var = 0\n",
    "        \n",
    "        return self\n",
    "    \n",
    "    def __next__(self):\n",
    "        self.var += 1\n",
    "        \n",
    "        if self.var > 10:\n",
    "            raise StopIteration\n",
    "        \n",
    "        return self.var"
   ]
  },
  {
   "cell_type": "markdown",
   "id": "37834331",
   "metadata": {},
   "source": [
    "### usando o iterator"
   ]
  },
  {
   "cell_type": "code",
   "execution_count": 107,
   "id": "e7df4832",
   "metadata": {},
   "outputs": [
    {
     "data": {
      "text/plain": [
       "<__main__.Contador at 0x7fa7941c92e0>"
      ]
     },
     "execution_count": 107,
     "metadata": {},
     "output_type": "execute_result"
    }
   ],
   "source": [
    "# criando objeto\n",
    "cont = Contador()\n",
    "iter(cont)\n",
    "\n"
   ]
  },
  {
   "cell_type": "code",
   "execution_count": 108,
   "id": "9587c8a9",
   "metadata": {},
   "outputs": [
    {
     "data": {
      "text/plain": [
       "1"
      ]
     },
     "execution_count": 108,
     "metadata": {},
     "output_type": "execute_result"
    }
   ],
   "source": [
    "# usando o objeto com o next()\n",
    "next(cont)"
   ]
  },
  {
   "cell_type": "code",
   "execution_count": 47,
   "id": "0bc9ca80",
   "metadata": {},
   "outputs": [
    {
     "name": "stdout",
     "output_type": "stream",
     "text": [
      "1\n",
      "2\n",
      "3\n",
      "4\n",
      "5\n",
      "6\n",
      "7\n",
      "8\n",
      "9\n",
      "10\n"
     ]
    }
   ],
   "source": [
    "# usando objeto com o for\n",
    "\n",
    "gerar_numero = iter(cont)\n",
    "\n",
    "for c in gerar_numero:\n",
    "    print(c)"
   ]
  },
  {
   "cell_type": "markdown",
   "id": "8bd780c2",
   "metadata": {},
   "source": [
    "## Criando um generator\n",
    "\n",
    "Essa função devolve o valor a cada nova iteração, e não tudo de uma vez, util quando o valor retornado advém de calculos matemáticos complexos e que exigem esforço computacional"
   ]
  },
  {
   "cell_type": "code",
   "execution_count": 124,
   "id": "8a22e0ff",
   "metadata": {},
   "outputs": [],
   "source": [
    "def gerador():\n",
    "    yield 10 ** 10\n",
    "    yield 10 ** 10\n",
    "    yield 10 ** 10"
   ]
  },
  {
   "cell_type": "code",
   "execution_count": 125,
   "id": "d1c7f627",
   "metadata": {
    "scrolled": true
   },
   "outputs": [
    {
     "name": "stdout",
     "output_type": "stream",
     "text": [
      "10000000000\n",
      "10000000000\n",
      "10000000000\n"
     ]
    }
   ],
   "source": [
    "for g in gerador():\n",
    "    print(g)"
   ]
  },
  {
   "cell_type": "markdown",
   "id": "a3e1762d",
   "metadata": {},
   "source": [
    "## Criando decorators"
   ]
  },
  {
   "cell_type": "code",
   "execution_count": 23,
   "id": "e85ab7b5",
   "metadata": {},
   "outputs": [],
   "source": [
    "# função que sera usada como decorator\n",
    "\n",
    "def decor(func):\n",
    "    def wrapper():\n",
    "        frase = func().replace('a', '@')\n",
    "        return frase\n",
    "    return wrapper()\n"
   ]
  },
  {
   "cell_type": "code",
   "execution_count": 24,
   "id": "d92e1604",
   "metadata": {},
   "outputs": [
    {
     "ename": "TypeError",
     "evalue": "'str' object is not callable",
     "output_type": "error",
     "traceback": [
      "\u001b[0;31m---------------------------------------------------------------------------\u001b[0m",
      "\u001b[0;31mTypeError\u001b[0m                                 Traceback (most recent call last)",
      "\u001b[0;32m/tmp/ipykernel_11330/3860633678.py\u001b[0m in \u001b[0;36m<module>\u001b[0;34m\u001b[0m\n\u001b[0;32m----> 1\u001b[0;31m \u001b[0mdecor\u001b[0m\u001b[0;34m(\u001b[0m\u001b[0;34m'teste'\u001b[0m\u001b[0;34m)\u001b[0m\u001b[0;34m\u001b[0m\u001b[0;34m\u001b[0m\u001b[0m\n\u001b[0m",
      "\u001b[0;32m/tmp/ipykernel_11330/2103553926.py\u001b[0m in \u001b[0;36mdecor\u001b[0;34m(func)\u001b[0m\n\u001b[1;32m      5\u001b[0m         \u001b[0mfrase\u001b[0m \u001b[0;34m=\u001b[0m \u001b[0mfunc\u001b[0m\u001b[0;34m(\u001b[0m\u001b[0;34m)\u001b[0m\u001b[0;34m.\u001b[0m\u001b[0mreplace\u001b[0m\u001b[0;34m(\u001b[0m\u001b[0;34m'a'\u001b[0m\u001b[0;34m,\u001b[0m \u001b[0;34m'@'\u001b[0m\u001b[0;34m)\u001b[0m\u001b[0;34m\u001b[0m\u001b[0;34m\u001b[0m\u001b[0m\n\u001b[1;32m      6\u001b[0m         \u001b[0;32mreturn\u001b[0m \u001b[0mfrase\u001b[0m\u001b[0;34m\u001b[0m\u001b[0;34m\u001b[0m\u001b[0m\n\u001b[0;32m----> 7\u001b[0;31m     \u001b[0;32mreturn\u001b[0m \u001b[0mwrapper\u001b[0m\u001b[0;34m(\u001b[0m\u001b[0;34m)\u001b[0m\u001b[0;34m\u001b[0m\u001b[0;34m\u001b[0m\u001b[0m\n\u001b[0m",
      "\u001b[0;32m/tmp/ipykernel_11330/2103553926.py\u001b[0m in \u001b[0;36mwrapper\u001b[0;34m()\u001b[0m\n\u001b[1;32m      3\u001b[0m \u001b[0;32mdef\u001b[0m \u001b[0mdecor\u001b[0m\u001b[0;34m(\u001b[0m\u001b[0mfunc\u001b[0m\u001b[0;34m)\u001b[0m\u001b[0;34m:\u001b[0m\u001b[0;34m\u001b[0m\u001b[0;34m\u001b[0m\u001b[0m\n\u001b[1;32m      4\u001b[0m     \u001b[0;32mdef\u001b[0m \u001b[0mwrapper\u001b[0m\u001b[0;34m(\u001b[0m\u001b[0;34m)\u001b[0m\u001b[0;34m:\u001b[0m\u001b[0;34m\u001b[0m\u001b[0;34m\u001b[0m\u001b[0m\n\u001b[0;32m----> 5\u001b[0;31m         \u001b[0mfrase\u001b[0m \u001b[0;34m=\u001b[0m \u001b[0mfunc\u001b[0m\u001b[0;34m(\u001b[0m\u001b[0;34m)\u001b[0m\u001b[0;34m.\u001b[0m\u001b[0mreplace\u001b[0m\u001b[0;34m(\u001b[0m\u001b[0;34m'a'\u001b[0m\u001b[0;34m,\u001b[0m \u001b[0;34m'@'\u001b[0m\u001b[0;34m)\u001b[0m\u001b[0;34m\u001b[0m\u001b[0;34m\u001b[0m\u001b[0m\n\u001b[0m\u001b[1;32m      6\u001b[0m         \u001b[0;32mreturn\u001b[0m \u001b[0mfrase\u001b[0m\u001b[0;34m\u001b[0m\u001b[0;34m\u001b[0m\u001b[0m\n\u001b[1;32m      7\u001b[0m     \u001b[0;32mreturn\u001b[0m \u001b[0mwrapper\u001b[0m\u001b[0;34m(\u001b[0m\u001b[0;34m)\u001b[0m\u001b[0;34m\u001b[0m\u001b[0;34m\u001b[0m\u001b[0m\n",
      "\u001b[0;31mTypeError\u001b[0m: 'str' object is not callable"
     ]
    }
   ],
   "source": [
    "decor('teste')"
   ]
  },
  {
   "cell_type": "code",
   "execution_count": 15,
   "id": "86d6b0e8",
   "metadata": {},
   "outputs": [],
   "source": [
    "@decor\n",
    "def vamos_falar():\n",
    "    return 'que bang complicado'"
   ]
  },
  {
   "cell_type": "code",
   "execution_count": 20,
   "id": "3aac38ce",
   "metadata": {},
   "outputs": [
    {
     "data": {
      "text/plain": [
       "'a'"
      ]
     },
     "execution_count": 20,
     "metadata": {},
     "output_type": "execute_result"
    }
   ],
   "source": [
    "vamos_falar()"
   ]
  },
  {
   "cell_type": "markdown",
   "id": "b4412827",
   "metadata": {},
   "source": [
    "# Aula 4\n",
    "\n",
    "## Funções Lambdas ou funções anonimas\n",
    "\n",
    "uma forma mais simples de criar funções "
   ]
  },
  {
   "cell_type": "code",
   "execution_count": 1,
   "id": "1c74091a",
   "metadata": {},
   "outputs": [
    {
     "data": {
      "text/plain": [
       "10"
      ]
     },
     "execution_count": 1,
     "metadata": {},
     "output_type": "execute_result"
    }
   ],
   "source": [
    "anonima = lambda a, b, c : a + b + c\n",
    "anonima(2, 3, 5)"
   ]
  },
  {
   "cell_type": "code",
   "execution_count": 3,
   "id": "60291967",
   "metadata": {},
   "outputs": [
    {
     "data": {
      "text/plain": [
       "-3"
      ]
     },
     "execution_count": 3,
     "metadata": {},
     "output_type": "execute_result"
    }
   ],
   "source": [
    "# com condicional\n",
    "anonima2 = lambda a,b : a + b if a > b else a - b\n",
    "anonima2(2, 5)"
   ]
  },
  {
   "cell_type": "markdown",
   "id": "c8a1d8c6",
   "metadata": {},
   "source": [
    "# Aula 5\n",
    "\n",
    "## Trabalhando com strings"
   ]
  },
  {
   "cell_type": "markdown",
   "id": "331ff73c",
   "metadata": {},
   "source": [
    "# Aula 6\n",
    "\n",
    "## Boas praticas de desenvolvimento "
   ]
  },
  {
   "cell_type": "code",
   "execution_count": null,
   "id": "228a57a2",
   "metadata": {},
   "outputs": [],
   "source": []
  }
 ],
 "metadata": {
  "kernelspec": {
   "display_name": "Python 3 (ipykernel)",
   "language": "python",
   "name": "python3"
  },
  "language_info": {
   "codemirror_mode": {
    "name": "ipython",
    "version": 3
   },
   "file_extension": ".py",
   "mimetype": "text/x-python",
   "name": "python",
   "nbconvert_exporter": "python",
   "pygments_lexer": "ipython3",
   "version": "3.8.10"
  }
 },
 "nbformat": 4,
 "nbformat_minor": 5
}
