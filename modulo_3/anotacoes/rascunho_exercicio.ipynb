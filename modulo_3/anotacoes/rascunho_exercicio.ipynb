{
 "cells": [
  {
   "cell_type": "code",
   "execution_count": 31,
   "id": "ebb89910",
   "metadata": {},
   "outputs": [],
   "source": [
    "from requests import get\n",
    "from bs4 import BeautifulSoup\n",
    "\n",
    "class TesteSpider():\n",
    "    def __init__(self, url) -> None:\n",
    "        self.url = url\n",
    "        self.requisicao = get(url)\n",
    "        self.pagina = BeautifulSoup(self.requisicao.text, 'html5lib')\n",
    "        self.tags = self.pagina.find_all('a')\n",
    "        self.links = []\n",
    "        for l in self.tags:\n",
    "            try:\n",
    "                self.links.append(l['href'])\n",
    "            except:\n",
    "                pass\n",
    "\n",
    "    def func_scrape(self, principal=True):\n",
    "        if principal:\n",
    "            return f'Página principal: {self.pagina.title.text}'\n",
    "        else:\n",
    "            return f'Página secundária: {self.pagina.title.text}'\n",
    "\n",
    "    def link_wiki(self):\n",
    "        \"\"\" devolve os links internos do dominio wikipedia.org \"\"\"\n",
    "        links_wiki = [l for l in self.links if l.find('wikipedia.org') == 11 or l.find('/wiki/') == 0 or l.find('wikipedia.org') == 9]\n",
    "        return links_wiki\n",
    "    \n",
    "x = TesteSpider('https://pt.wikipedia.org/wiki/Terapia_de_aceita%C3%A7%C3%A3o_e_compromisso')"
   ]
  },
  {
   "cell_type": "code",
   "execution_count": 32,
   "id": "afd7e2e3",
   "metadata": {
    "scrolled": true
   },
   "outputs": [
    {
     "data": {
      "text/plain": [
       "['/wiki/Wikip%C3%A9dia:P%C3%A1gina_principal',\n",
       " '/wiki/Especial:Pesquisar',\n",
       " '/wiki/Wikip%C3%A9dia:Boas-vindas',\n",
       " '/wiki/Especial:Minha_discuss%C3%A3o',\n",
       " '/wiki/Especial:Minhas_contribui%C3%A7%C3%B5es',\n",
       " '/wiki/Wikip%C3%A9dia:P%C3%A1gina_principal',\n",
       " '/wiki/Portal:Conte%C3%BAdo_destacado',\n",
       " '/wiki/Portal:Eventos_atuais',\n",
       " '/wiki/Wikip%C3%A9dia:Esplanada',\n",
       " '/wiki/Especial:Aleat%C3%B3ria',\n",
       " '/wiki/Portal:%C3%8Dndice',\n",
       " '/wiki/Wikip%C3%A9dia:Informe_um_erro',\n",
       " '/wiki/Wikip%C3%A9dia:Boas-vindas',\n",
       " '/wiki/Ajuda:P%C3%A1gina_principal',\n",
       " '/wiki/Ajuda:P%C3%A1gina_de_testes',\n",
       " '/wiki/Wikip%C3%A9dia:Portal_comunit%C3%A1rio',\n",
       " '/wiki/Especial:Mudan%C3%A7as_recentes',\n",
       " '/wiki/Wikip%C3%A9dia:Manuten%C3%A7%C3%A3o',\n",
       " '/wiki/Ajuda:Guia_de_edi%C3%A7%C3%A3o/Como_come%C3%A7ar_uma_p%C3%A1gina',\n",
       " '/wiki/Especial:P%C3%A1ginas_novas',\n",
       " '/wiki/Wikip%C3%A9dia:Contato',\n",
       " '/wiki/Especial:P%C3%A1ginas_afluentes/Terapia_de_aceita%C3%A7%C3%A3o_e_compromisso',\n",
       " '/wiki/Especial:Altera%C3%A7%C3%B5es_relacionadas/Terapia_de_aceita%C3%A7%C3%A3o_e_compromisso',\n",
       " '/wiki/Wikipedia:Carregar_ficheiro',\n",
       " '/wiki/Especial:P%C3%A1ginas_especiais',\n",
       " '/wiki/Terapia_de_aceita%C3%A7%C3%A3o_e_compromisso',\n",
       " '/wiki/Terapia_de_aceita%C3%A7%C3%A3o_e_compromisso',\n",
       " 'https://ar.wikipedia.org/wiki/%D8%B9%D9%84%D8%A7%D8%AC_%D8%A8%D8%A7%D9%84%D9%82%D8%A8%D9%88%D9%84_%D9%88%D8%A7%D9%84%D8%A7%D9%84%D8%AA%D8%B2%D8%A7%D9%85',\n",
       " 'https://ca.wikipedia.org/wiki/Ter%C3%A0pia_d%27Acceptaci%C3%B3_i_Comprom%C3%ADs',\n",
       " 'https://de.wikipedia.org/wiki/Akzeptanz-_und_Commitmenttherapie',\n",
       " 'https://en.wikipedia.org/wiki/Acceptance_and_commitment_therapy',\n",
       " 'https://es.wikipedia.org/wiki/Terapia_de_aceptaci%C3%B3n_y_compromiso',\n",
       " 'https://fa.wikipedia.org/wiki/%D8%AF%D8%B1%D9%85%D8%A7%D9%86_%D9%85%D8%A8%D8%AA%D9%86%DB%8C_%D8%A8%D8%B1_%D9%BE%D8%B0%DB%8C%D8%B1%D8%B4_%D9%88_%D8%AA%D8%B9%D9%87%D8%AF',\n",
       " 'https://fr.wikipedia.org/wiki/Th%C3%A9rapie_d%27acceptation_et_d%27engagement',\n",
       " 'https://he.wikipedia.org/wiki/%D7%AA%D7%A8%D7%A4%D7%99%D7%99%D7%AA_%D7%A7%D7%91%D7%9C%D7%94_%D7%95%D7%9E%D7%97%D7%95%D7%99%D7%91%D7%95%D7%AA',\n",
       " 'https://it.wikipedia.org/wiki/Acceptance_and_Commitment_Therapy',\n",
       " 'https://ja.wikipedia.org/wiki/%E3%82%A2%E3%82%AF%E3%82%BB%E3%83%97%E3%82%BF%E3%83%B3%E3%82%B9%26%E3%82%B3%E3%83%9F%E3%83%83%E3%83%88%E3%83%A1%E3%83%B3%E3%83%88%E3%83%BB%E3%82%BB%E3%83%A9%E3%83%94%E3%83%BC',\n",
       " 'https://ko.wikipedia.org/wiki/%EC%88%98%EC%9A%A9%EC%A0%84%EB%85%90%EC%B9%98%EB%A3%8C',\n",
       " 'https://nl.wikipedia.org/wiki/Acceptance_and_commitment_therapy',\n",
       " 'https://no.wikipedia.org/wiki/Acceptance_and_commitment_therapy',\n",
       " 'https://pl.wikipedia.org/wiki/Terapia_akceptacji_i_zaanga%C5%BCowania',\n",
       " 'https://ru.wikipedia.org/wiki/%D0%A2%D0%B5%D1%80%D0%B0%D0%BF%D0%B8%D1%8F_%D0%BF%D1%80%D0%B8%D0%BD%D1%8F%D1%82%D0%B8%D1%8F_%D0%B8_%D0%BE%D1%82%D0%B2%D0%B5%D1%82%D1%81%D1%82%D0%B2%D0%B5%D0%BD%D0%BD%D0%BE%D1%81%D1%82%D0%B8',\n",
       " 'https://sv.wikipedia.org/wiki/Acceptance_and_commitment_therapy',\n",
       " 'https://th.wikipedia.org/wiki/%E0%B8%81%E0%B8%B2%E0%B8%A3%E0%B8%A3%E0%B8%B1%E0%B8%81%E0%B8%A9%E0%B8%B2%E0%B8%94%E0%B9%89%E0%B8%A7%E0%B8%A2%E0%B8%81%E0%B8%B2%E0%B8%A3%E0%B8%A2%E0%B8%AD%E0%B8%A1%E0%B8%A3%E0%B8%B1%E0%B8%9A%E0%B9%81%E0%B8%A5%E0%B8%B0%E0%B8%81%E0%B8%B2%E0%B8%A3%E0%B9%83%E0%B8%AB%E0%B9%89%E0%B8%AA%E0%B8%B1%E0%B8%8D%E0%B8%8D%E0%B8%B2',\n",
       " 'https://tr.wikipedia.org/wiki/Kabul_ve_kararl%C4%B1l%C4%B1k_terapisi',\n",
       " '/wiki/An%C3%A1lise_do_comportamento',\n",
       " '/wiki/Psicol%C3%B3gica',\n",
       " '/wiki/Empirismo',\n",
       " '/wiki/Mindfulness',\n",
       " '/wiki/Transtornos_de_ansiedade',\n",
       " '/wiki/Depress%C3%A3o',\n",
       " '/wiki/Depend%C3%AAncia',\n",
       " '/wiki/Montreal',\n",
       " '/wiki/Autismo',\n",
       " '/wiki/Medicina_comportamental',\n",
       " '/wiki/An%C3%A1lise_do_comportamento',\n",
       " '/wiki/Associa%C3%A7%C3%A3o_Americana_de_Psicologia',\n",
       " '/wiki/An%C3%A1lise_do_comportamento',\n",
       " '/wiki/Terapia_comportamental',\n",
       " '/wiki/Terapia_anal%C3%ADtico-comportamental',\n",
       " '/wiki/Wikip%C3%A9dia:Liga%C3%A7%C3%A3o_inativa',\n",
       " 'https://pt.wikipedia.org/w/index.php?title=Terapia_de_aceitação_e_compromisso&oldid=61406975',\n",
       " '/wiki/Especial:Categorias',\n",
       " '/wiki/Categoria:Psicoterapia',\n",
       " '/wiki/Categoria:Behaviorismo',\n",
       " '/wiki/Categoria:!Artigos_com_liga%C3%A7%C3%B5es_inativas',\n",
       " '/wiki/Wikip%C3%A9dia:Sobre',\n",
       " '/wiki/Wikip%C3%A9dia:Aviso_geral']"
      ]
     },
     "execution_count": 32,
     "metadata": {},
     "output_type": "execute_result"
    }
   ],
   "source": [
    "x.link_wiki()"
   ]
  },
  {
   "cell_type": "code",
   "execution_count": 33,
   "id": "5753b987",
   "metadata": {},
   "outputs": [
    {
     "ename": "SyntaxError",
     "evalue": "invalid syntax (1389810787.py, line 1)",
     "output_type": "error",
     "traceback": [
      "\u001b[0;36m  File \u001b[0;32m\"/tmp/ipykernel_5867/1389810787.py\"\u001b[0;36m, line \u001b[0;32m1\u001b[0m\n\u001b[0;31m    [x for x in range(10) if x == 2 else 'a']\u001b[0m\n\u001b[0m                                    ^\u001b[0m\n\u001b[0;31mSyntaxError\u001b[0m\u001b[0;31m:\u001b[0m invalid syntax\n"
     ]
    }
   ],
   "source": [
    "[x for x in range(10) if x == 2 else 'a']"
   ]
  },
  {
   "cell_type": "code",
   "execution_count": null,
   "id": "7e656a81",
   "metadata": {},
   "outputs": [],
   "source": []
  }
 ],
 "metadata": {
  "kernelspec": {
   "display_name": "Python 3 (ipykernel)",
   "language": "python",
   "name": "python3"
  },
  "language_info": {
   "codemirror_mode": {
    "name": "ipython",
    "version": 3
   },
   "file_extension": ".py",
   "mimetype": "text/x-python",
   "name": "python",
   "nbconvert_exporter": "python",
   "pygments_lexer": "ipython3",
   "version": "3.8.10"
  }
 },
 "nbformat": 4,
 "nbformat_minor": 5
}
