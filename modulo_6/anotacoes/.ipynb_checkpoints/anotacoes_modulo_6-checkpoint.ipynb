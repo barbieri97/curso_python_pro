{
 "cells": [
  {
   "cell_type": "code",
   "execution_count": 2,
   "id": "41daee8e",
   "metadata": {},
   "outputs": [],
   "source": [
    "from requests import get, post"
   ]
  },
  {
   "cell_type": "markdown",
   "id": "feb846f5",
   "metadata": {},
   "source": [
    "# flask"
   ]
  },
  {
   "cell_type": "code",
   "execution_count": 3,
   "id": "1cc1f665",
   "metadata": {},
   "outputs": [
    {
     "data": {
      "text/plain": [
       "True"
      ]
     },
     "execution_count": 3,
     "metadata": {},
     "output_type": "execute_result"
    }
   ],
   "source": [
    "resp = get('http://127.0.0.1:5000/novarota2/1')\n",
    "\n",
    "resp.ok"
   ]
  },
  {
   "cell_type": "code",
   "execution_count": 4,
   "id": "e26764d1",
   "metadata": {},
   "outputs": [
    {
     "data": {
      "text/plain": [
       "'<p>o valor é 1</p>'"
      ]
     },
     "execution_count": 4,
     "metadata": {},
     "output_type": "execute_result"
    }
   ],
   "source": [
    "resp.text"
   ]
  },
  {
   "cell_type": "code",
   "execution_count": 13,
   "id": "246a3cb0",
   "metadata": {},
   "outputs": [
    {
     "data": {
      "text/plain": [
       "'{\\n  \"key\": \"value\"\\n}\\n'"
      ]
     },
     "execution_count": 13,
     "metadata": {},
     "output_type": "execute_result"
    }
   ],
   "source": [
    "respp = post('http://127.0.0.1:5000/api', json = {'key' : 'value'})\n",
    "\n",
    "respp.text"
   ]
  },
  {
   "cell_type": "markdown",
   "id": "a2407ca5",
   "metadata": {},
   "source": [
    "# fastapi"
   ]
  },
  {
   "cell_type": "code",
   "execution_count": 15,
   "id": "26758c0c",
   "metadata": {},
   "outputs": [
    {
     "data": {
      "text/plain": [
       "'{\"message\":\"Hello world\"}'"
      ]
     },
     "execution_count": 15,
     "metadata": {},
     "output_type": "execute_result"
    }
   ],
   "source": [
    "respf = get('http://127.0.0.1:8000/')\n",
    "\n",
    "respf.text"
   ]
  },
  {
   "cell_type": "code",
   "execution_count": 24,
   "id": "e892c9eb",
   "metadata": {},
   "outputs": [
    {
     "data": {
      "text/plain": [
       "'{\"curso\":\"pythonpro\",\"modulo\":6,\"opt\":null,\"tipo\":\"Post\"}'"
      ]
     },
     "execution_count": 24,
     "metadata": {},
     "output_type": "execute_result"
    }
   ],
   "source": [
    "json = {\n",
    "    'curso' : 'pythonpro',\n",
    "    'modulo' : 6,\n",
    "    'tipo' : 'Post'\n",
    "    'opt' : 'qualquer texto'\n",
    "}\n",
    "respf = post('http://127.0.0.1:8000/novarota', json=json)\n",
    "respf.text"
   ]
  }
 ],
 "metadata": {
  "kernelspec": {
   "display_name": "Python 3 (ipykernel)",
   "language": "python",
   "name": "python3"
  },
  "language_info": {
   "codemirror_mode": {
    "name": "ipython",
    "version": 3
   },
   "file_extension": ".py",
   "mimetype": "text/x-python",
   "name": "python",
   "nbconvert_exporter": "python",
   "pygments_lexer": "ipython3",
   "version": "3.8.10"
  }
 },
 "nbformat": 4,
 "nbformat_minor": 5
}
